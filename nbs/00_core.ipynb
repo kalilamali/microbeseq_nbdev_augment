{
 "cells": [
  {
   "cell_type": "code",
   "execution_count": null,
   "metadata": {},
   "outputs": [],
   "source": [
    "# |default_exp core\n",
    "# This will create a package named $PACKAGE_NAME/core.py"
   ]
  },
  {
   "cell_type": "markdown",
   "metadata": {},
   "source": [
    "# Global static vars\n",
    "These are used to modify the template for individual use cases"
   ]
  },
  {
   "cell_type": "code",
   "execution_count": null,
   "metadata": {},
   "outputs": [],
   "source": [
    "# |export\n",
    "# Need the $PACKAGE_NAME for a few functions, this can be considered a static var\n",
    "PACKAGE_NAME: str = \"$PACKAGE_NAME\"  # Make sure to adjust this to your package name\n",
    "import os\n",
    "# This is the root folder of the project, we will use this to find the package folder, its also a notebook so __file__ will not work, we're in nbs which is one above the root\n",
    "PROJECT_FOLDER: str = os.path.abspath(os.path.join(os.getcwd(), \"..\"))\n",
    "\n",
    "DEV_MODE: bool = False\n",
    "# if the folder template_nbdev_example exists in the cwd, we are in dev mode. Probably want a better way to determine this going forward\n",
    "if os.path.exists(f\"{PROJECT_FOLDER}/{PACKAGE_NAME}\"):\n",
    "    DEV_MODE = True"
   ]
  },
  {
   "cell_type": "markdown",
   "metadata": {},
   "source": [
    "For help with the Markdown language, see [this guide](https://www.markdownguide.org/basic-syntax/)."
   ]
  },
  {
   "cell_type": "code",
   "execution_count": null,
   "metadata": {},
   "outputs": [],
   "source": [
    "# |hide\n",
    "import nbdev\n",
    "from nbdev.showdoc import *  # ignore this Pylance warning in favor of following nbdev docs"
   ]
  },
  {
   "cell_type": "markdown",
   "metadata": {},
   "source": [
    "# Core\n",
    "\n",
    " A module which contains common functions to be used by other modules. Those that exist in the template are meant to be common functions we can use against multiple packages."
   ]
  },
  {
   "cell_type": "markdown",
   "metadata": {},
   "source": [
    "#|hide\n",
    "\n",
    "Notebook blocks starting with #|hide are not shown in the documentation and not exported to the python package. Blocks with #|export are exported to the python package. Blocks with neither are shown to the documentation but not exported to the python package."
   ]
  },
  {
   "cell_type": "markdown",
   "metadata": {},
   "source": [
    "## Libraries\n",
    "\n",
    "Currently all libraries included are listed at the top and calls to them are also made in the block of code that uses them. This is for readability and the performance hit of the import is negligible."
   ]
  },
  {
   "cell_type": "code",
   "execution_count": null,
   "metadata": {},
   "outputs": [],
   "source": [
    "# |export\n",
    "# standard libs\n",
    "import os\n",
    "import re\n",
    "\n",
    "# Common to template\n",
    "# add into settings.ini, requirements, package name is python-dotenv, for conda build ensure `conda config --add channels conda-forge`\n",
    "import dotenv  # for loading config from .env files, https://pypi.org/project/python-dotenv/\n",
    "import envyaml  # Allows to loads env vars into a yaml file, https://github.com/thesimj/envyaml\n",
    "import fastcore  # To add functionality related to nbdev development, https://github.com/fastai/fastcore/\n",
    "from fastcore import (\n",
    "    test,\n",
    ")\n",
    "from fastcore.script import (\n",
    "    call_parse,\n",
    ")  # for @call_parse, https://fastcore.fast.ai/script\n",
    "\n",
    "# Project specific libraries"
   ]
  },
  {
   "cell_type": "markdown",
   "metadata": {},
   "source": [
    "## Config\n",
    "\n",
    "Our config file holds all program and user specific variables. This is a good practice to follow as it allows us to easily change variables without having to change code. It also allows us to easily change variables based on the environment we are running in. For example, we may want to run a program in a test environment with a different database than we would in production. This is also a good practice to follow as it allows us to easily change variables without having to change code. It also allows us to easily change variables based on the environment we are running in. For example, we may want to run a program in a test environment with a different database than we would in production.\n",
    "\n",
    "Configuration is templated to rely on environment (ENV) variables. A default ENV config is provided in `./config/config.default.env` and more advanced data structures are supported in `./config/config.default.yaml`. The `.yaml` file is meant to represent what your program actually works with and the `.env` file options the user can change at run time.\n",
    "\n",
    "Make sure you know the priority of variables and check on them when debugging your code. Also ensure that your yaml file is referenced appropriately in the `.env` file. \n",
    "\n",
    "When in use there's an expectation you'll have multiple config files for different use cases e.g. development, production environment for different paths, etc."
   ]
  },
  {
   "cell_type": "markdown",
   "metadata": {},
   "source": [
    "### set env variables\n",
    "A helper function for getting your config values, this will set the environment variables with the provided `.env` values. If you're missing values it'll ensure they're loaded in with the defaults file."
   ]
  },
  {
   "cell_type": "code",
   "execution_count": null,
   "metadata": {},
   "outputs": [
    {
     "ename": "IndentationError",
     "evalue": "expected an indented block after 'if' statement on line 15 (2423656242.py, line 16)",
     "output_type": "error",
     "traceback": [
      "\u001b[0;36m  Cell \u001b[0;32mIn[48], line 16\u001b[0;36m\u001b[0m\n\u001b[0;31m    if spec is not None:\u001b[0m\n\u001b[0m    ^\u001b[0m\n\u001b[0;31mIndentationError\u001b[0m\u001b[0;31m:\u001b[0m expected an indented block after 'if' statement on line 15\n"
     ]
    }
   ],
   "source": [
    "# |export\n",
    "import importlib\n",
    "import importlib.util\n",
    "def set_env_variables(config_path: str, overide_env_vars: bool = True) -> bool:\n",
    "    # Load dot env sets environmental values from a file, if the value already exists it will not be overwritten unless override is set to True.\n",
    "    # If we have multiple .env files then we need to apply the one which we want to take precedence last with overide.\n",
    "\n",
    "    # Order of precedence: .env file > environment variables > default values\n",
    "    # When developing, making a change to the config will not be reflected until the environment is restarted\n",
    "\n",
    "    # Set the env vars first, this is needed for the card.yaml to replace ENV variables\n",
    "    # NOTE: You need to adjust PROJECT_NAME to your package name for this to work, the exception is only for dev purposes\n",
    "    # This here checks if your package is installed, such as through pypi or through pip install -e  [.dev] for development. If it is then it'll go there and use the config files there as your default values.\n",
    "    spec = importlib.util.find_spec(PACKAGE_NAME)\n",
    "    if DEV_MODE:\n",
    "        # Check if {PACKAGE_NAME}/config/config.default.env exists relative to the current working directory\n",
    "        if os.path.isfile(f\"{PROJECT_FOLDER}/{PACKAGE_NAME}/config/config.default.env\"):\n",
    "            dotenv.load_dotenv(\n",
    "                f\"{PROJECT_FOLDER}/{PACKAGE_NAME}/config/config.default.env\",\n",
    "                override=False,\n",
    "            )\n",
    "            print(f\"Loaded {PROJECT_FOLDER}/{PACKAGE_NAME}/config/config.default.env\")\n",
    "        else:\n",
    "            print(\n",
    "                f\"Error: {PACKAGE_NAME}/config/config.default.env does not exist in the current working directory {PROJECT_FOLDER}\"\n",
    "            )\n",
    "            return False\n",
    "    elif spec is not None:\n",
    "        module = importlib.util.module_from_spec(spec)\n",
    "        # Check that the config exists in the loaded module, it should be in config/config.default.env\n",
    "        if os.path.isfile(f\"{spec.origin}/{PACKAGE_NAME}/config/config.default.env\"):\n",
    "            dotenv.load_dotenv(f\"{spec.origin}/{PACKAGE_NAME}/config/config.default.env\", override=False)\n",
    "        else:\n",
    "            # Here it means the default in the package. This could mean we're in development mode.\n",
    "            print(\n",
    "                f\"Error: {PACKAGE_NAME}/config/config.default.env does not exist in the package {PACKAGE_NAME} \"\n",
    "            )\n",
    "            return False\n",
    "    # 2. set values from file:\n",
    "    if os.path.isfile(config_path):\n",
    "        dotenv.load_dotenv(config_path, override=overide_env_vars)\n",
    "\n",
    "    return True"
   ]
  },
  {
   "cell_type": "markdown",
   "metadata": {},
   "source": [
    "### get config\n",
    "\n",
    "When you run this function, assuming things are set up properly, you end up with a dict that matches your `.yaml` file. This file will have all the inputs for the package and settings of your program.\n",
    "\n",
    "To do this it will use a `.env` config file, which has an associated yaml file defined with `CORE_YAML_CONFIG_FILE` in the `.env` file. And then use the `.env` file to load values into the associated `.yaml` file."
   ]
  },
  {
   "cell_type": "code",
   "execution_count": null,
   "metadata": {},
   "outputs": [],
   "source": [
    "# |export\n",
    "\n",
    "\n",
    "def get_config(config_path: str = None, overide_env_vars: bool = True) -> dict:\n",
    "    if config_path is None:\n",
    "        config_path = \"\"\n",
    "    # First sets environment with variables from config_path, then uses those variables to fill in appropriate values in the config.yaml file, the yaml file is then returned as a dict\n",
    "    # If you want user env variables to take precedence over the config.yaml file then set overide_env_vars to False\n",
    "    set_env_variables(config_path, overide_env_vars)\n",
    "    config: dict = envyaml.EnvYAML(\n",
    "        os.environ.get(\n",
    "            \"CORE_YAML_CONFIG_FILE\", f\"./{PACKAGE_NAME}/config/config.default.yaml\"\n",
    "        ),\n",
    "        strict=False,\n",
    "    ).export()\n",
    "    return config"
   ]
  },
  {
   "cell_type": "markdown",
   "metadata": {},
   "source": [
    "### Variables\n",
    "\n",
    "All the user input variables and machine adjustable variables should be in your config, which is a dict. Reference config.default.yaml for how to access your variables. Also note that with python dicts you can use `dict_variable.get(\"variable\", default_value)` to ensure that you don't get a key error if the variable is not set."
   ]
  },
  {
   "cell_type": "code",
   "execution_count": null,
   "metadata": {},
   "outputs": [
    {
     "name": "stdout",
     "output_type": "stream",
     "text": [
      "Error: template_nbdev_example/config/config.default.env does not exist in the package template_nbdev_example\n"
     ]
    }
   ],
   "source": [
    "# |export\n",
    "# create a os.PathLike object\n",
    "config = get_config(os.environ.get(\"CORE_CONFIG_FILE\", \"\"))"
   ]
  },
  {
   "cell_type": "markdown",
   "metadata": {},
   "source": [
    "### show project env vars\n",
    "A helper function intended to only be used with debugging. It shows all your project specific environmental variables."
   ]
  },
  {
   "cell_type": "code",
   "execution_count": null,
   "metadata": {},
   "outputs": [],
   "source": [
    "# |export\n",
    "def show_project_env_vars(config: dict) -> None:\n",
    "    # Prints out all the project environment variables\n",
    "    # This is useful for debugging and seeing what is being set\n",
    "    for k, v in config.items():\n",
    "        # If ENV var starts with PROJECTNAME_ then print\n",
    "        if k.startswith(config[\"CORE_PROJECT_VARIABLE_PREFIX\"]):\n",
    "            print(f\"{k}={v}\")"
   ]
  },
  {
   "cell_type": "code",
   "execution_count": null,
   "metadata": {},
   "outputs": [
    {
     "ename": "KeyError",
     "evalue": "'CORE_PROJECT_VARIABLE_PREFIX'",
     "output_type": "error",
     "traceback": [
      "\u001b[0;31m---------------------------------------------------------------------------\u001b[0m",
      "\u001b[0;31mKeyError\u001b[0m                                  Traceback (most recent call last)",
      "Cell \u001b[0;32mIn[43], line 2\u001b[0m\n\u001b[1;32m      1\u001b[0m \u001b[38;5;66;03m# |hide\u001b[39;00m\n\u001b[0;32m----> 2\u001b[0m \u001b[43mshow_project_env_vars\u001b[49m\u001b[43m(\u001b[49m\u001b[43mconfig\u001b[49m\u001b[43m)\u001b[49m\n",
      "Cell \u001b[0;32mIn[42], line 7\u001b[0m, in \u001b[0;36mshow_project_env_vars\u001b[0;34m(config)\u001b[0m\n\u001b[1;32m      2\u001b[0m \u001b[38;5;28;01mdef\u001b[39;00m \u001b[38;5;21mshow_project_env_vars\u001b[39m(config: \u001b[38;5;28mdict\u001b[39m) \u001b[38;5;241m-\u001b[39m\u001b[38;5;241m>\u001b[39m \u001b[38;5;28;01mNone\u001b[39;00m:\n\u001b[1;32m      3\u001b[0m     \u001b[38;5;66;03m# Prints out all the project environment variables\u001b[39;00m\n\u001b[1;32m      4\u001b[0m     \u001b[38;5;66;03m# This is useful for debugging and seeing what is being set\u001b[39;00m\n\u001b[1;32m      5\u001b[0m     \u001b[38;5;28;01mfor\u001b[39;00m k, v \u001b[38;5;129;01min\u001b[39;00m config\u001b[38;5;241m.\u001b[39mitems():\n\u001b[1;32m      6\u001b[0m         \u001b[38;5;66;03m# If ENV var starts with PROJECTNAME_ then print\u001b[39;00m\n\u001b[0;32m----> 7\u001b[0m         \u001b[38;5;28;01mif\u001b[39;00m k\u001b[38;5;241m.\u001b[39mstartswith(\u001b[43mconfig\u001b[49m\u001b[43m[\u001b[49m\u001b[38;5;124;43m\"\u001b[39;49m\u001b[38;5;124;43mCORE_PROJECT_VARIABLE_PREFIX\u001b[39;49m\u001b[38;5;124;43m\"\u001b[39;49m\u001b[43m]\u001b[49m):\n\u001b[1;32m      8\u001b[0m             \u001b[38;5;28mprint\u001b[39m(\u001b[38;5;124mf\u001b[39m\u001b[38;5;124m\"\u001b[39m\u001b[38;5;132;01m{\u001b[39;00mk\u001b[38;5;132;01m}\u001b[39;00m\u001b[38;5;124m=\u001b[39m\u001b[38;5;132;01m{\u001b[39;00mv\u001b[38;5;132;01m}\u001b[39;00m\u001b[38;5;124m\"\u001b[39m)\n",
      "\u001b[0;31mKeyError\u001b[0m: 'CORE_PROJECT_VARIABLE_PREFIX'"
     ]
    }
   ],
   "source": [
    "# |hide\n",
    "show_project_env_vars(config)"
   ]
  },
  {
   "cell_type": "markdown",
   "metadata": {},
   "source": [
    "The functions below are **not** tempalted and you should adjust this with your own code. It's included as an example of how to code some functions with associated tests and how to make it work on the command line. It is best to code by creating a new workbook and then importing the functions of this into that one."
   ]
  },
  {
   "cell_type": "code",
   "execution_count": null,
   "metadata": {},
   "outputs": [],
   "source": [
    "# |export\n",
    "\n",
    "\n",
    "def hello_world(name: str = \"Not given\") -> str:\n",
    "    return f\"Hello World! My name is {name}\""
   ]
  },
  {
   "cell_type": "markdown",
   "metadata": {},
   "source": [
    "This here is a a test as part of fastcore.test, all fastcore tests will be automatically run when doing nbdev_test as well as through github actions."
   ]
  },
  {
   "cell_type": "code",
   "execution_count": null,
   "metadata": {},
   "outputs": [
    {
     "data": {
      "text/plain": [
       "'/Users/kimn/git.repositories/ssi-dk/template-nbdev'"
      ]
     },
     "execution_count": null,
     "metadata": {},
     "output_type": "execute_result"
    }
   ],
   "source": [
    "PROJECT_FOLDER"
   ]
  },
  {
   "cell_type": "code",
   "execution_count": null,
   "metadata": {},
   "outputs": [],
   "source": [
    "test.test_eq(\"Hello World! My name is Kim\", hello_world(\"Kim\"))"
   ]
  },
  {
   "cell_type": "markdown",
   "metadata": {},
   "source": [
    "The @call_parse will, with the settings.ini entry way, automatically transform your function into a command line tool. Comments of the functions will appear for help messages and the initial docstring will appear in the help as well. You can also define defaults for the arguments and should define a typehint to control inputs. The function will likely have to resolve variables with ENV vars and config files. The recommended way to do this is to assume variables passed here are a higher priority."
   ]
  },
  {
   "cell_type": "code",
   "execution_count": null,
   "metadata": {},
   "outputs": [],
   "source": [
    "# |export\n",
    "from fastcore.script import call_parse\n",
    "\n",
    "\n",
    "@call_parse\n",
    "def cli(\n",
    "    name: str,  # Your name\n",
    "    config_file: str = None,  # config file to set env vars from\n",
    ") -> bool:\n",
    "    \"\"\"\n",
    "    This will print Hello World! with your name\n",
    "    \"\"\"\n",
    "    config = get_config(config_file)  # Set env vars and get config variables\n",
    "    if name is not None:\n",
    "        config[\"example\"][\"user_input\"][\"name\"] = name\n",
    "    print(hello_world(name))\n",
    "    return True"
   ]
  },
  {
   "cell_type": "markdown",
   "metadata": {},
   "source": [
    "Test the function with a known input"
   ]
  },
  {
   "cell_type": "code",
   "execution_count": null,
   "metadata": {},
   "outputs": [],
   "source": [
    "test.test_eq(True, cli(\"Kim\"))"
   ]
  },
  {
   "cell_type": "markdown",
   "metadata": {},
   "source": [
    "Test the function with potentially variable input to confirm output"
   ]
  },
  {
   "cell_type": "code",
   "execution_count": null,
   "metadata": {},
   "outputs": [],
   "source": [
    "cli(config[\"example\"][\"user_input\"][\"name\"])\n",
    "cli(config[\"example\"][\"user_input\"][\"alternative_name\"])"
   ]
  },
  {
   "cell_type": "code",
   "execution_count": null,
   "metadata": {},
   "outputs": [],
   "source": [
    "# | hide\n",
    "# This is included at the end to ensure when you run through your notebook the code is also transferred to the associated python package\n",
    "import nbdev \n",
    "nbdev.nbdev_export()"
   ]
  }
 ],
 "metadata": {
  "kernelspec": {
   "display_name": "python3",
   "language": "python",
   "name": "python3"
  },
  "language_info": {
   "name": "python",
   "version": "3.11.7"
  }
 },
 "nbformat": 4,
 "nbformat_minor": 4
}
